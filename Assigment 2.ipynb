{
 "cells": [
  {
   "cell_type": "markdown",
   "id": "4a94676a-f467-48f9-a9d9-d7e60d94d6f8",
   "metadata": {},
   "source": [
    "Assingnment 2\n",
    "Name: Ajah Kevin\n",
    "Date: 4.02.2025\n",
    "\n",
    "Exercise 1"
   ]
  },
  {
   "cell_type": "code",
   "execution_count": 1,
   "id": "58f991d2-73c6-48e1-991e-81e666d2e1f0",
   "metadata": {
    "jp-MarkdownHeadingCollapsed": true
   },
   "outputs": [
    {
     "name": "stdout",
     "output_type": "stream",
     "text": [
      "The result of the calculation was: 149769\n"
     ]
    }
   ],
   "source": [
    "kev_1 = 100\n",
    "kev_2 = 29\n",
    "final_sum = (kev_1+kev_2)  * 3\n",
    "result = final_sum  **  2\n",
    "print (\"The result of the calculation was:\" , result) "
   ]
  },
  {
   "cell_type": "markdown",
   "id": "73ca86bc-7083-42f4-b5b3-30c3c8887484",
   "metadata": {},
   "source": [
    "Exercise 2"
   ]
  },
  {
   "cell_type": "code",
   "execution_count": 6,
   "id": "79b26b7f-f1a4-4f7e-9957-40d48a167fb4",
   "metadata": {},
   "outputs": [
    {
     "name": "stdin",
     "output_type": "stream",
     "text": [
      "Name:  Name: Kevin\n",
      "Year:  1997\n",
      "Age: 28\n"
     ]
    },
    {
     "name": "stdout",
     "output_type": "stream",
     "text": [
      "Password: 97Nam784\n"
     ]
    }
   ],
   "source": [
    "name = input (\"Name: \") \n",
    "year = input (\"Year: \")\n",
    "age = int(input(\"Age:\"))\n",
    "print(\"Password:\" ,year[2:]+name[:3]+str(age**2))"
   ]
  },
  {
   "cell_type": "markdown",
   "id": "1898e672-d1f9-4ef8-9674-92d1fce2a47e",
   "metadata": {},
   "source": [
    "Excercise 3"
   ]
  },
  {
   "cell_type": "code",
   "execution_count": 9,
   "id": "0f654f58-721f-43ab-be1a-3417b2da7b07",
   "metadata": {},
   "outputs": [
    {
     "name": "stdin",
     "output_type": "stream",
     "text": [
      "First number:  5\n",
      "Second number:  6\n"
     ]
    },
    {
     "name": "stdout",
     "output_type": "stream",
     "text": [
      "One of the numbers is even.\n"
     ]
    }
   ],
   "source": [
    "num_1=int(input(\"First number: \"))\n",
    "num_2=int(input(\"Second number: \"))\n",
    "if num_1 % 2== 0 and num_2 % 2== 0:\n",
    "   print(\"Both numbers are even.\") \n",
    "elif num_1 % 2 != 0 and num_2 % 2 != 0:\n",
    "   print(\"Both numbers are odd.\")\n",
    "else: \n",
    "    print(\"One of the numbers is even.\")"
   ]
  },
  {
   "cell_type": "markdown",
   "id": "463e5f3b-3675-4edf-8b67-3124898e25fe",
   "metadata": {},
   "source": [
    "Exercise 4"
   ]
  },
  {
   "cell_type": "code",
   "execution_count": 10,
   "id": "43323a37-7191-4b1b-8276-97efe2d3beef",
   "metadata": {},
   "outputs": [
    {
     "name": "stdin",
     "output_type": "stream",
     "text": [
      "Give an integer:  5\n"
     ]
    },
    {
     "name": "stdout",
     "output_type": "stream",
     "text": [
      "The sum was:  0\n",
      "The sum was:  1\n",
      "The sum was:  3\n",
      "The sum was:  6\n",
      "The sum was:  10\n"
     ]
    }
   ],
   "source": [
    "num= int(input(\"Give an integer: \")) \n",
    "final_sum = 0\n",
    "for i in range(0,num): \n",
    "    final_sum += i \n",
    "    print(\"The sum was: \",final_sum)"
   ]
  },
  {
   "cell_type": "markdown",
   "id": "599dcd98-bf8c-447c-9140-746c907913dc",
   "metadata": {},
   "source": [
    "Exercise 5"
   ]
  },
  {
   "cell_type": "code",
   "execution_count": 11,
   "id": "2f8cb73f-469a-42e3-8f3f-1be940d739c4",
   "metadata": {},
   "outputs": [
    {
     "name": "stdin",
     "output_type": "stream",
     "text": [
      "Player:  2\n"
     ]
    },
    {
     "name": "stdout",
     "output_type": "stream",
     "text": [
      "Try a smaller number.\n"
     ]
    },
    {
     "name": "stdin",
     "output_type": "stream",
     "text": [
      "Player: 1\n"
     ]
    },
    {
     "name": "stdout",
     "output_type": "stream",
     "text": [
      "That’s right! Number of tries:   2\n"
     ]
    }
   ],
   "source": [
    "import random \n",
    "dealer = random.randint(0,10)\n",
    "player = int(input(\"Player: \"))\n",
    "count= 1 \n",
    "while dealer !=player: \n",
    "    count +=1 \n",
    "    if dealer < player: \n",
    "        print(\"Try a smaller number.\") \n",
    "        player = int(input(\"Player:\")) \n",
    "    elif dealer > player:\n",
    "        print(\"Try a greater number.\") \n",
    "        player = int(input(\"Player:\")) \n",
    "print(\"That’s right! Number of tries:  \",count)"
   ]
  },
  {
   "cell_type": "code",
   "execution_count": null,
   "id": "9f85bcaa-052b-4c90-8cb4-93a89bafc53d",
   "metadata": {},
   "outputs": [],
   "source": []
  }
 ],
 "metadata": {
  "kernelspec": {
   "display_name": "Python 3 (ipykernel)",
   "language": "python",
   "name": "python3"
  },
  "language_info": {
   "codemirror_mode": {
    "name": "ipython",
    "version": 3
   },
   "file_extension": ".py",
   "mimetype": "text/x-python",
   "name": "python",
   "nbconvert_exporter": "python",
   "pygments_lexer": "ipython3",
   "version": "3.12.7"
  }
 },
 "nbformat": 4,
 "nbformat_minor": 5
}
